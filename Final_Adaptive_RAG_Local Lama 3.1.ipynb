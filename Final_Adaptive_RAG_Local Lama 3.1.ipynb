{
 "cells": [
  {
   "cell_type": "code",
   "execution_count": 4,
   "id": "5cb08f03-ff32-4803-bc05-a1153fecee95",
   "metadata": {},
   "outputs": [],
   "source": [
    "#Install Libs"
   ]
  },
  {
   "cell_type": "code",
   "execution_count": 6,
   "id": "72190280-4f86-45f6-9517-559cf016db42",
   "metadata": {},
   "outputs": [],
   "source": [
    "#pip install langgraph\n",
    "#pip install langchain-nomic\n",
    "#pip install -U langchain-ollama\n",
    "#pip install tiktoken\n",
    "#pip install langchain-community\n",
    "#pip install gpt4all"
   ]
  },
  {
   "cell_type": "code",
   "execution_count": 8,
   "id": "d8b29d5a-8c2a-4974-b96f-49444fb33152",
   "metadata": {},
   "outputs": [],
   "source": [
    "#imports"
   ]
  },
  {
   "cell_type": "code",
   "execution_count": 10,
   "id": "97cd40c5-b25d-4572-97b7-9ea3d44f2373",
   "metadata": {},
   "outputs": [
    {
     "name": "stderr",
     "output_type": "stream",
     "text": [
      "USER_AGENT environment variable not set, consider setting it to identify your requests.\n"
     ]
    }
   ],
   "source": [
    "import ollama\n",
    "from langchain_nomic import *\n",
    "import langchain_community\n",
    "import os\n",
    "import re\n",
    "import getpass\n",
    "import json\n",
    "from langchain_core.messages import HumanMessage, SystemMessage\n",
    "from langchain.text_splitter import RecursiveCharacterTextSplitter\n",
    "from langchain_community.document_loaders import WebBaseLoader\n",
    "from langchain_community.vectorstores import SKLearnVectorStore\n",
    "from langchain_nomic.embeddings import NomicEmbeddings\n",
    "from langchain_community.tools.tavily_search import TavilySearchResults\n",
    "import operator\n",
    "from typing_extensions import TypedDict\n",
    "from typing import List, Annotated\n",
    "import langgraph\n",
    "from langchain.schema import Document\n",
    "from langgraph.graph import END\n",
    "from langgraph.graph import StateGraph\n",
    "from IPython.display import Image, display\n",
    "from langchain_ollama import ChatOllama\n",
    "from gpt4all import GPT4All"
   ]
  },
  {
   "cell_type": "code",
   "execution_count": 3,
   "id": "c83e99ad-69b8-4946-b872-1b451e6fe124",
   "metadata": {},
   "outputs": [
    {
     "data": {
      "text/plain": [
       "{'status': 'success'}"
      ]
     },
     "execution_count": 3,
     "metadata": {},
     "output_type": "execute_result"
    }
   ],
   "source": [
    "response = ollama.pull(model=\"llama3.2:3b-instruct-fp16\")\n",
    "\n",
    "response"
   ]
  },
  {
   "cell_type": "code",
   "execution_count": 9,
   "id": "a62b49b9-9000-4dec-98d3-90e15603c655",
   "metadata": {},
   "outputs": [],
   "source": [
    "\n",
    "\n",
    "local_llm = \"llama3.2:3b-instruct-fp16\"\n",
    "llm = ChatOllama(model=local_llm, temperature=0)\n",
    "llm_json_mode = ChatOllama(model=local_llm, temperature=0, format=\"json\")"
   ]
  },
  {
   "cell_type": "code",
   "execution_count": 11,
   "id": "c00ae8ed-e0ea-48fa-8424-9a8223bd9fca",
   "metadata": {},
   "outputs": [
    {
     "name": "stdin",
     "output_type": "stream",
     "text": [
      "TAVILY_API_KEY:  ········\n"
     ]
    }
   ],
   "source": [
    "\n",
    "\n",
    "\n",
    "def _set_env(var: str):\n",
    "    if not os.environ.get(var):\n",
    "        os.environ[var] = getpass.getpass(f\"{var}: \")\n",
    "\n",
    "\n",
    "_set_env(\"TAVILY_API_KEY\")\n",
    "os.environ[\"TOKENIZERS_PARALLELISM\"] = \"true\""
   ]
  },
  {
   "cell_type": "code",
   "execution_count": 13,
   "id": "f6028d02-dc79-4d61-8a47-d8ce533cb3cf",
   "metadata": {},
   "outputs": [
    {
     "name": "stdin",
     "output_type": "stream",
     "text": [
      "LANGCHAIN_API_KEY:  ········\n"
     ]
    }
   ],
   "source": [
    "_set_env(\"LANGCHAIN_API_KEY\")\n",
    "os.environ[\"LANGCHAIN_TRACING_V2\"] = \"true\"\n",
    "os.environ[\"LANGCHAIN_PROJECT\"] = \"local-llama32-rag\""
   ]
  },
  {
   "cell_type": "code",
   "execution_count": 15,
   "id": "539a43e2-b64c-4a12-8c9f-45929bbb6c7f",
   "metadata": {},
   "outputs": [],
   "source": []
  },
  {
   "cell_type": "code",
   "execution_count": 17,
   "id": "681394db-e408-4849-9559-4ebc0ddf395e",
   "metadata": {},
   "outputs": [
    {
     "name": "stderr",
     "output_type": "stream",
     "text": [
      "USER_AGENT environment variable not set, consider setting it to identify your requests.\n",
      "Downloading: 100%|██████████| 274M/274M [00:09<00:00, 29.7MiB/s] \n",
      "Verifying: 100%|██████████| 274M/274M [00:00<00:00, 664MiB/s] \n"
     ]
    }
   ],
   "source": [
    "\n",
    "urls = [\n",
    "    \"https://lilianweng.github.io/posts/2023-06-23-agent/\",\n",
    "    \"https://lilianweng.github.io/posts/2023-03-15-prompt-engineering/\",\n",
    "    \"https://lilianweng.github.io/posts/2023-10-25-adv-attack-llm/\",\n",
    "]\n",
    "\n",
    "# Load documents\n",
    "docs = [WebBaseLoader(url).load() for url in urls]\n",
    "docs_list = [item for sublist in docs for item in sublist]\n",
    "\n",
    "# Split documents\n",
    "text_splitter = RecursiveCharacterTextSplitter.from_tiktoken_encoder(\n",
    "    chunk_size=1000, chunk_overlap=200\n",
    ")\n",
    "doc_splits = text_splitter.split_documents(docs_list)\n",
    "\n",
    "# Add to vectorDB\n",
    "vectorstore = SKLearnVectorStore.from_documents(\n",
    "    documents=doc_splits,\n",
    "    embedding=NomicEmbeddings(model=\"nomic-embed-text-v1.5\", inference_mode=\"local\"),\n",
    ")\n",
    "\n",
    "# Create retriever\n",
    "retriever = vectorstore.as_retriever(k=3)"
   ]
  },
  {
   "cell_type": "code",
   "execution_count": 19,
   "id": "59743450-ff31-4628-854f-d2a817620aea",
   "metadata": {},
   "outputs": [
    {
     "name": "stdout",
     "output_type": "stream",
     "text": [
      "{'datasource': 'websearch'} {'datasource': 'websearch'} {'datasource': 'vectorstore'}\n"
     ]
    }
   ],
   "source": [
    "### Router\n",
    "\n",
    "\n",
    "# Prompt\n",
    "router_instructions = \"\"\"You are an expert at routing a user question to a vectorstore or web search.\n",
    "\n",
    "The vectorstore contains documents related to agents, prompt engineering, and adversarial attacks.\n",
    "\n",
    "Use the vectorstore for questions on these topics. For all else, and especially for current events, use web-search.\n",
    "\n",
    "Return JSON with single key, datasource, that is 'websearch' or 'vectorstore' depending on the question.\"\"\"\n",
    "\n",
    "# Test router\n",
    "test_web_search = llm_json_mode.invoke(\n",
    "    [SystemMessage(content=router_instructions)]\n",
    "    + [\n",
    "        HumanMessage(\n",
    "            content=\"Who is favored to win the NFC Championship game in the 2024 season?\"\n",
    "        )\n",
    "    ]\n",
    ")\n",
    "test_web_search_2 = llm_json_mode.invoke(\n",
    "    [SystemMessage(content=router_instructions)]\n",
    "    + [HumanMessage(content=\"What are the models released today for llama3.2?\")]\n",
    ")\n",
    "test_vector_store = llm_json_mode.invoke(\n",
    "    [SystemMessage(content=router_instructions)]\n",
    "    + [HumanMessage(content=\"What are the types of agent memory?\")]\n",
    ")\n",
    "print(\n",
    "    json.loads(test_web_search.content),\n",
    "    json.loads(test_web_search_2.content),\n",
    "    json.loads(test_vector_store.content),\n",
    ")"
   ]
  },
  {
   "cell_type": "code",
   "execution_count": 21,
   "id": "c7ecf37c-8b90-40a7-b391-49b4698b8a74",
   "metadata": {},
   "outputs": [
    {
     "data": {
      "text/plain": [
       "{'binary_score': 'yes'}"
      ]
     },
     "execution_count": 21,
     "metadata": {},
     "output_type": "execute_result"
    }
   ],
   "source": [
    "### Retrieval Grader\n",
    "\n",
    "# Doc grader instructions\n",
    "doc_grader_instructions = \"\"\"You are a grader assessing relevance of a retrieved document to a user question.\n",
    "\n",
    "If the document contains keyword(s) or semantic meaning related to the question, grade it as relevant.\"\"\"\n",
    "\n",
    "# Grader prompt\n",
    "doc_grader_prompt = \"\"\"Here is the retrieved document: \\n\\n {document} \\n\\n Here is the user question: \\n\\n {question}. \n",
    "\n",
    "This carefully and objectively assess whether the document contains at least some information that is relevant to the question.\n",
    "\n",
    "Return JSON with single key, binary_score, that is 'yes' or 'no' score to indicate whether the document contains at least some information that is relevant to the question.\"\"\"\n",
    "\n",
    "# Test\n",
    "question = \"What is Chain of thought prompting?\"\n",
    "docs = retriever.invoke(question)\n",
    "doc_txt = docs[1].page_content\n",
    "doc_grader_prompt_formatted = doc_grader_prompt.format(\n",
    "    document=doc_txt, question=question\n",
    ")\n",
    "result = llm_json_mode.invoke(\n",
    "    [SystemMessage(content=doc_grader_instructions)]\n",
    "    + [HumanMessage(content=doc_grader_prompt_formatted)]\n",
    ")\n",
    "json.loads(result.content)"
   ]
  },
  {
   "cell_type": "code",
   "execution_count": 23,
   "id": "63c887d8-661e-4b90-b852-e795fbc756a8",
   "metadata": {},
   "outputs": [
    {
     "name": "stdout",
     "output_type": "stream",
     "text": [
      "Chain of Thought (CoT) prompting is a technique used in natural language processing to generate human-like responses by iteratively asking questions and refining the search space through external search queries, such as Wikipedia APIs. CoT prompting involves decomposing problems into multiple thought steps, generating multiple thoughts per step, and evaluating each state using a classifier or majority vote. The goal is to find an optimal instruction that leads to the desired output, which can be achieved by optimizing prompt parameters directly on the embedding space via gradient descent or searching over a pool of model-generated instruction candidates.\n"
     ]
    }
   ],
   "source": [
    "### Generate\n",
    "\n",
    "# Prompt\n",
    "rag_prompt = \"\"\"You are an assistant for question-answering tasks. \n",
    "\n",
    "Here is the context to use to answer the question:\n",
    "\n",
    "{context} \n",
    "\n",
    "Think carefully about the above context. \n",
    "\n",
    "Now, review the user question:\n",
    "\n",
    "{question}\n",
    "\n",
    "Provide an answer to this questions using only the above context. \n",
    "\n",
    "Use three sentences maximum and keep the answer concise.\n",
    "\n",
    "Answer:\"\"\"\n",
    "\n",
    "\n",
    "# Post-processing\n",
    "def format_docs(docs):\n",
    "    return \"\\n\\n\".join(doc.page_content for doc in docs)\n",
    "\n",
    "\n",
    "# Test\n",
    "docs = retriever.invoke(question)\n",
    "docs_txt = format_docs(docs)\n",
    "rag_prompt_formatted = rag_prompt.format(context=docs_txt, question=question)\n",
    "generation = llm.invoke([HumanMessage(content=rag_prompt_formatted)])\n",
    "print(generation.content)"
   ]
  },
  {
   "cell_type": "code",
   "execution_count": 25,
   "id": "e504ef28-ef78-4df0-83ea-9459528e9159",
   "metadata": {},
   "outputs": [
    {
     "data": {
      "text/plain": [
       "{'binary_score': 'yes',\n",
       " 'explanation': 'The student answer provides a clear and accurate description of Chain of Thought (CoT) prompting, its components, and its goals. It also mentions various techniques used in CoT prompting, such as external search queries, prompt tuning, and automatic prompt engineering. The answer demonstrates an understanding of the concept and its applications in natural language processing.'}"
      ]
     },
     "execution_count": 25,
     "metadata": {},
     "output_type": "execute_result"
    }
   ],
   "source": [
    "### Hallucination Grader\n",
    "\n",
    "# Hallucination grader instructions\n",
    "hallucination_grader_instructions = \"\"\"\n",
    "\n",
    "You are a teacher grading a quiz. \n",
    "\n",
    "You will be given FACTS and a STUDENT ANSWER. \n",
    "\n",
    "Here is the grade criteria to follow:\n",
    "\n",
    "(1) Ensure the STUDENT ANSWER is grounded in the FACTS. \n",
    "\n",
    "(2) Ensure the STUDENT ANSWER does not contain \"hallucinated\" information outside the scope of the FACTS.\n",
    "\n",
    "Score:\n",
    "\n",
    "A score of yes means that the student's answer meets all of the criteria. This is the highest (best) score. \n",
    "\n",
    "A score of no means that the student's answer does not meet all of the criteria. This is the lowest possible score you can give.\n",
    "\n",
    "Explain your reasoning in a step-by-step manner to ensure your reasoning and conclusion are correct. \n",
    "\n",
    "Avoid simply stating the correct answer at the outset.\"\"\"\n",
    "\n",
    "# Grader prompt\n",
    "hallucination_grader_prompt = \"\"\"FACTS: \\n\\n {documents} \\n\\n STUDENT ANSWER: {generation}. \n",
    "\n",
    "Return JSON with two two keys, binary_score is 'yes' or 'no' score to indicate whether the STUDENT ANSWER is grounded in the FACTS. And a key, explanation, that contains an explanation of the score.\"\"\"\n",
    "\n",
    "# Test using documents and generation from above\n",
    "hallucination_grader_prompt_formatted = hallucination_grader_prompt.format(\n",
    "    documents=docs_txt, generation=generation.content\n",
    ")\n",
    "result = llm_json_mode.invoke(\n",
    "    [SystemMessage(content=hallucination_grader_instructions)]\n",
    "    + [HumanMessage(content=hallucination_grader_prompt_formatted)]\n",
    ")\n",
    "json.loads(result.content)"
   ]
  },
  {
   "cell_type": "code",
   "execution_count": 27,
   "id": "f4b0da10-50c8-4678-a753-7239a5b9e665",
   "metadata": {},
   "outputs": [
    {
     "data": {
      "text/plain": [
       "{'binary_score': 'yes',\n",
       " 'explanation': \"The student's answer helps to answer the question by providing specific details about the vision models released as part of Llama 3.2. The answer mentions two vision models (Llama 3.2 11B Vision Instruct and Llama 3.2 90B Vision Instruct) and their availability on Azure AI Model Catalog via managed compute. Additionally, the student provides context about Meta's first foray into multimodal AI and compares these models to other visual reasoning models like Claude 3 Haiku and GPT-4o mini. This extra information is not explicitly asked for in the question, but it demonstrates a thorough understanding of the topic. The answer also correctly states that these models replace the older text-only Llama 3.1 models, which meets all the criteria specified in the question.\"}"
      ]
     },
     "execution_count": 27,
     "metadata": {},
     "output_type": "execute_result"
    }
   ],
   "source": [
    "### Answer Grader\n",
    "\n",
    "# Answer grader instructions\n",
    "answer_grader_instructions = \"\"\"You are a teacher grading a quiz. \n",
    "\n",
    "You will be given a QUESTION and a STUDENT ANSWER. \n",
    "\n",
    "Here is the grade criteria to follow:\n",
    "\n",
    "(1) The STUDENT ANSWER helps to answer the QUESTION\n",
    "\n",
    "Score:\n",
    "\n",
    "A score of yes means that the student's answer meets all of the criteria. This is the highest (best) score. \n",
    "\n",
    "The student can receive a score of yes if the answer contains extra information that is not explicitly asked for in the question.\n",
    "\n",
    "A score of no means that the student's answer does not meet all of the criteria. This is the lowest possible score you can give.\n",
    "\n",
    "Explain your reasoning in a step-by-step manner to ensure your reasoning and conclusion are correct. \n",
    "\n",
    "Avoid simply stating the correct answer at the outset.\"\"\"\n",
    "\n",
    "# Grader prompt\n",
    "answer_grader_prompt = \"\"\"QUESTION: \\n\\n {question} \\n\\n STUDENT ANSWER: {generation}. \n",
    "\n",
    "Return JSON with two two keys, binary_score is 'yes' or 'no' score to indicate whether the STUDENT ANSWER meets the criteria. And a key, explanation, that contains an explanation of the score.\"\"\"\n",
    "\n",
    "# Test\n",
    "question = \"What are the vision models released today as part of Llama 3.2?\"\n",
    "answer = \"The Llama 3.2 models released today include two vision models: Llama 3.2 11B Vision Instruct and Llama 3.2 90B Vision Instruct, which are available on Azure AI Model Catalog via managed compute. These models are part of Meta's first foray into multimodal AI and rival closed models like Anthropic's Claude 3 Haiku and OpenAI's GPT-4o mini in visual reasoning. They replace the older text-only Llama 3.1 models.\"\n",
    "\n",
    "# Test using question and generation from above\n",
    "answer_grader_prompt_formatted = answer_grader_prompt.format(\n",
    "    question=question, generation=answer\n",
    ")\n",
    "result = llm_json_mode.invoke(\n",
    "    [SystemMessage(content=answer_grader_instructions)]\n",
    "    + [HumanMessage(content=answer_grader_prompt_formatted)]\n",
    ")\n",
    "json.loads(result.content)"
   ]
  },
  {
   "cell_type": "code",
   "execution_count": 29,
   "id": "702418f3-d2ea-4e7a-a839-affdbd66a2c2",
   "metadata": {},
   "outputs": [],
   "source": [
    "### Search\n",
    "web_search_tool = TavilySearchResults(k=3)"
   ]
  },
  {
   "cell_type": "code",
   "execution_count": 31,
   "id": "dc324049-edd7-43ae-bc24-52fe3f1257c0",
   "metadata": {},
   "outputs": [],
   "source": [
    "\n",
    "class GraphState(TypedDict):\n",
    "    \"\"\"\n",
    "    Graph state is a dictionary that contains information we want to propagate to, and modify in, each graph node.\n",
    "    \"\"\"\n",
    "\n",
    "    question: str  # User question\n",
    "    generation: str  # LLM generation\n",
    "    web_search: str  # Binary decision to run web search\n",
    "    max_retries: int  # Max number of retries for answer generation\n",
    "    answers: int  # Number of answers generated\n",
    "    loop_step: Annotated[int, operator.add]\n",
    "    documents: List[str]  # List of retrieved documents"
   ]
  },
  {
   "cell_type": "code",
   "execution_count": 37,
   "id": "7b45bc75-ceff-47d7-b309-b4c6abb95dc3",
   "metadata": {},
   "outputs": [],
   "source": []
  },
  {
   "cell_type": "code",
   "execution_count": 81,
   "id": "6fc0f5d7-4b2b-4349-9333-ab80dd03e188",
   "metadata": {},
   "outputs": [],
   "source": [
    "\n",
    "\n",
    "def retrieve(state):\n",
    "    \"\"\"Retrieve documents from vectorstore.\"\"\"\n",
    "    print(\"---RETRIEVE---\")\n",
    "    question = state[\"question\"]\n",
    "    documents = retriever.invoke(question)\n",
    "    return {\"documents\": documents}\n",
    "\n",
    "def generate(state):\n",
    "    \"\"\"Generate answer using RAG on retrieved documents.\"\"\"\n",
    "    print(\"---GENERATE---\")\n",
    "    question = state[\"question\"]\n",
    "    documents = state[\"documents\"]\n",
    "    docs_txt = format_docs(documents)\n",
    "    rag_prompt_formatted = rag_prompt.format(context=docs_txt, question=question)\n",
    "    generation = llm.invoke([HumanMessage(content=rag_prompt_formatted)])\n",
    "    return {\"answer\": generation.content}\n",
    "\n",
    "def grade_documents(state):\n",
    "    \"\"\"Determine if retrieved documents are relevant to the question.\"\"\"\n",
    "    print(\"---CHECK DOCUMENT RELEVANCE TO QUESTION---\")\n",
    "    question = state[\"question\"]\n",
    "    documents = state[\"documents\"]\n",
    "    filtered_docs = []\n",
    "    web_search = \"No\"\n",
    "    for d in documents:\n",
    "        doc_grader_prompt_formatted = doc_grader_prompt.format(\n",
    "            document=d.page_content, question=question\n",
    "        )\n",
    "        result = llm_json_mode.invoke(\n",
    "            [SystemMessage(content=doc_grader_instructions)]\n",
    "            + [HumanMessage(content=doc_grader_prompt_formatted)]\n",
    "        )\n",
    "        grade = json.loads(result.content)[\"binary_score\"]\n",
    "        if grade.lower() == \"yes\":\n",
    "            filtered_docs.append(d)\n",
    "        else:\n",
    "            web_search = \"Yes\"\n",
    "    return {\"documents\": filtered_docs, \"web_search\": web_search}\n",
    "\n",
    "def web_search(state):\n",
    "    \"\"\"Perform web search based on the question.\"\"\"\n",
    "    print(\"---WEB SEARCH---\")\n",
    "    question = state[\"question\"]\n",
    "    documents = state.get(\"documents\", [])\n",
    "    docs = web_search_tool.invoke({\"query\": question})\n",
    "\n",
    "    # Collecting the web results and sources\n",
    "    web_sources = []\n",
    "    for d in docs:\n",
    "        if \"content\" in d:\n",
    "            web_results_doc = Document(page_content=d[\"content\"])\n",
    "            documents.append(web_results_doc)\n",
    "        if \"source\" in d:\n",
    "            web_sources.append(d[\"source\"])\n",
    "\n",
    "    # If no sources found, add a default message\n",
    "    if not web_sources and docs:\n",
    "        web_sources.append(\"Source not available\")\n",
    "\n",
    "    return {\"documents\": documents, \"web_sources\": web_sources}\n",
    "\n",
    "def route_question(state):\n",
    "    \"\"\"Route question to web search or RAG.\"\"\"\n",
    "    print(\"---ROUTE QUESTION---\")\n",
    "    route_question = llm_json_mode.invoke(\n",
    "        [SystemMessage(content=router_instructions)]\n",
    "        + [HumanMessage(content=state[\"question\"])]\n",
    "    )\n",
    "    source = json.loads(route_question.content)[\"datasource\"]\n",
    "    return \"websearch\" if source == \"websearch\" else \"vectorstore\"\n",
    "\n",
    "def decide_to_generate(state):\n",
    "    \"\"\"Decide whether to generate an answer or add web search.\"\"\"\n",
    "    print(\"---ASSESS GRADED DOCUMENTS---\")\n",
    "    web_search = state[\"web_search\"]\n",
    "    return \"websearch\" if web_search == \"Yes\" else \"generate\"\n",
    "\n",
    "def process_question(question):\n",
    "    \"\"\"Process the question and return the final answer with citations if applicable.\"\"\"\n",
    "    state = {\"question\": question, \"max_retries\": 3, \"loop_step\": 0}\n",
    "    next_node = route_question(state)\n",
    "\n",
    "    while next_node != END:\n",
    "        if next_node == \"vectorstore\":\n",
    "            state.update(retrieve(state))\n",
    "            state.update(grade_documents(state))\n",
    "            next_node = decide_to_generate(state)\n",
    "        elif next_node == \"websearch\":\n",
    "            state.update(web_search(state))\n",
    "            state.update(grade_documents(state))\n",
    "            next_node = decide_to_generate(state)\n",
    "        elif next_node == \"generate\":\n",
    "            state.update(generate(state))\n",
    "            answer = state[\"answer\"]\n",
    "            # Check if web results were involved and provide citations\n",
    "            if state.get(\"web_sources\"):\n",
    "                citations = f\"\\nCitations:\\n{state['web_sources'][0]}\"\n",
    "                print(f\"Final Answer: {answer}{citations}\")\n",
    "            else:\n",
    "                print(f\"Final Answer: {answer}\")\n",
    "            return answer\n",
    "        else:\n",
    "            raise ValueError(\"Unknown next node: {}\".format(next_node))\n",
    "\n",
    "    print(\"No answer could be generated.\")\n",
    "    return None\n",
    "\n"
   ]
  },
  {
   "cell_type": "code",
   "execution_count": 97,
   "id": "61897f67-8354-4e68-a990-2335cf8d9a89",
   "metadata": {},
   "outputs": [
    {
     "data": {
      "image/jpeg": "[encoded data removed]",
      "text/plain": [
       "<IPython.core.display.Image object>"
      ]
     },
     "metadata": {},
     "output_type": "display_data"
    }
   ],
   "source": [
    "\n",
    "\n",
    "# Define the workflow graph\n",
    "workflow = StateGraph(GraphState)\n",
    "\n",
    "# Define the nodes\n",
    "workflow.add_node(\"websearch\", web_search)  # web search\n",
    "workflow.add_node(\"retrieve\", retrieve)  # retrieve\n",
    "workflow.add_node(\"grade_documents\", grade_documents)  # grade documents\n",
    "workflow.add_node(\"generate\", generate)  # generate\n",
    "workflow.add_node(\"linkedin_redirect\", lambda state: {\"answer\": f\"https://in.linkedin.com/in/{state['person_name'].replace(' ', '-')}\"} )  # LinkedIn redirect\n",
    "\n",
    "# Build graph\n",
    "workflow.set_conditional_entry_point(\n",
    "    route_question,\n",
    "    {\n",
    "        \"linkedin\": \"linkedin_redirect\",  # Direct to LinkedIn if the query is about a person\n",
    "        \"websearch\": \"websearch\",\n",
    "        \"vectorstore\": \"retrieve\",\n",
    "    },\n",
    ")\n",
    "workflow.add_edge(\"websearch\", \"generate\")\n",
    "workflow.add_edge(\"retrieve\", \"grade_documents\")\n",
    "workflow.add_conditional_edges(\n",
    "    \"grade_documents\",\n",
    "    decide_to_generate,\n",
    "    {\n",
    "        \"websearch\": \"websearch\",\n",
    "        \"generate\": \"generate\",\n",
    "    },\n",
    ")\n",
    "workflow.add_conditional_edges(\n",
    "    \"generate\",\n",
    "    grade_generation_v_documents_and_question,\n",
    "    {\n",
    "        \"not supported\": \"generate\",\n",
    "        \"useful\": END,\n",
    "        \"not useful\": \"websearch\",\n",
    "        \"max retries\": END,\n",
    "    },\n",
    ")\n",
    "\n",
    "# Compile\n",
    "graph = workflow.compile()\n",
    "display(Image(graph.get_graph().draw_mermaid_png()))\n"
   ]
  },
  {
   "cell_type": "code",
   "execution_count": 83,
   "id": "5b9bc156-7f1c-443b-b5a1-d418d1772152",
   "metadata": {},
   "outputs": [
    {
     "name": "stdin",
     "output_type": "stream",
     "text": [
      "Please enter your question:  who is indrajit kar\n"
     ]
    },
    {
     "name": "stdout",
     "output_type": "stream",
     "text": [
      "---ROUTE QUESTION---\n",
      "---WEB SEARCH---\n",
      "---CHECK DOCUMENT RELEVANCE TO QUESTION---\n",
      "---ASSESS GRADED DOCUMENTS---\n",
      "---GENERATE---\n",
      "Final Answer: Indrajit Kar is a master's graduate in Computational Biology from Bengaluru with over 22 years of experience in AI and ML. He has held various leadership positions at prominent companies such as Siemens, Accenture, IBM, Infinite Data Systems, and Zensar Technologies. As the Head of AI at Siemens Advanta, he influences CXOs and organizations with data-driven decision making and leads teams responsible for emerging technologies.\n",
      "Citations:\n",
      "Source not available\n"
     ]
    },
    {
     "data": {
      "text/plain": [
       "\"Indrajit Kar is a master's graduate in Computational Biology from Bengaluru with over 22 years of experience in AI and ML. He has held various leadership positions at prominent companies such as Siemens, Accenture, IBM, Infinite Data Systems, and Zensar Technologies. As the Head of AI at Siemens Advanta, he influences CXOs and organizations with data-driven decision making and leads teams responsible for emerging technologies.\""
      ]
     },
     "execution_count": 83,
     "metadata": {},
     "output_type": "execute_result"
    }
   ],
   "source": [
    "# Example usage:\n",
    "questions = input(\"Please enter your question: \")\n",
    "process_question(questions)"
   ]
  },
  {
   "cell_type": "code",
   "execution_count": null,
   "id": "63313d5c-96f8-406e-a1b5-f6b26a41d990",
   "metadata": {},
   "outputs": [],
   "source": []
  },
  {
   "cell_type": "code",
   "execution_count": 105,
   "id": "c0bb4713-4e61-4cf2-b8bf-9748ecdd7e15",
   "metadata": {},
   "outputs": [],
   "source": [
    "\n",
    "\n",
    "\n",
    "def retrieve(state):\n",
    "    \"\"\"Retrieve documents from vectorstore.\"\"\"\n",
    "    print(\"---RETRIEVE---\")\n",
    "    question = state[\"question\"]\n",
    "    documents = retriever.invoke(question)\n",
    "    return {\"documents\": documents}\n",
    "\n",
    "def generate(state):\n",
    "    \"\"\"Generate answer using RAG on retrieved documents.\"\"\"\n",
    "    print(\"---GENERATE---\")\n",
    "    question = state[\"question\"]\n",
    "    documents = state[\"documents\"]\n",
    "    docs_txt = format_docs(documents)\n",
    "    rag_prompt_formatted = rag_prompt.format(context=docs_txt, question=question)\n",
    "    generation = llm.invoke([HumanMessage(content=rag_prompt_formatted)])\n",
    "    return {\"answer\": generation.content}\n",
    "\n",
    "def grade_documents(state):\n",
    "    \"\"\"Determine if retrieved documents are relevant to the question.\"\"\"\n",
    "    print(\"---CHECK DOCUMENT RELEVANCE TO QUESTION---\")\n",
    "    question = state[\"question\"]\n",
    "    documents = state[\"documents\"]\n",
    "    filtered_docs = []\n",
    "    web_search = \"No\"\n",
    "    for d in documents:\n",
    "        doc_grader_prompt_formatted = doc_grader_prompt.format(\n",
    "            document=d.page_content, question=question\n",
    "        )\n",
    "        result = llm_json_mode.invoke(\n",
    "            [SystemMessage(content=doc_grader_instructions)]\n",
    "            + [HumanMessage(content=doc_grader_prompt_formatted)]\n",
    "        )\n",
    "        grade = json.loads(result.content)[\"binary_score\"]\n",
    "        if grade.lower() == \"yes\":\n",
    "            filtered_docs.append(d)\n",
    "        else:\n",
    "            web_search = \"Yes\"\n",
    "    return {\"documents\": filtered_docs, \"web_search\": web_search}\n",
    "\n",
    "def web_search(state):\n",
    "    \"\"\"Perform web search based on the question.\"\"\"\n",
    "    print(\"---WEB SEARCH---\")\n",
    "    question = state[\"question\"]\n",
    "    documents = state.get(\"documents\", [])\n",
    "    docs = web_search_tool.invoke({\"query\": question})\n",
    "\n",
    "    # Collecting the web results and sources\n",
    "    web_sources = []\n",
    "    for d in docs:\n",
    "        if \"content\" in d:\n",
    "            web_results_doc = Document(page_content=d[\"content\"])\n",
    "            documents.append(web_results_doc)\n",
    "        if \"link\" in d:  # Assuming \"link\" holds the URL of the source\n",
    "            web_sources.append(d[\"link\"])\n",
    "\n",
    "    # If no sources found, add a default message\n",
    "    if not web_sources and docs:\n",
    "        web_sources.append(\"Source not available\")\n",
    "\n",
    "    return {\"documents\": documents, \"web_sources\": web_sources}\n",
    "\n",
    "def route_question(state):\n",
    "    \"\"\"Route question based on content: check vectorstore, then web search, then LinkedIn.\"\"\"\n",
    "    print(\"---ROUTE QUESTION---\")\n",
    "    question = state[\"question\"]\n",
    "\n",
    "    # Check if the question is about a person using regex\n",
    "    person_keywords = re.compile(r\"(who is|tell me about|profile of|bio of|biography of) (.+)\", re.IGNORECASE)\n",
    "    match = person_keywords.match(question)\n",
    "\n",
    "    if match:\n",
    "        person_name = match.group(2).strip().replace(\" \", \"-\")\n",
    "        linkedin_url = f\"https://in.linkedin.com/in/{person_name}\"\n",
    "        return {\"datasource\": \"linkedin\", \"linkedin_url\": linkedin_url}\n",
    "    else:\n",
    "        # Default to vector store first\n",
    "        return \"vectorstore\"\n",
    "\n",
    "def decide_to_generate(state):\n",
    "    \"\"\"Decide whether to generate an answer or add web search.\"\"\"\n",
    "    print(\"---ASSESS GRADED DOCUMENTS---\")\n",
    "    web_search = state[\"web_search\"]\n",
    "    return \"websearch\" if web_search == \"Yes\" else \"generate\"\n",
    "\n",
    "def process_question(question):\n",
    "    \"\"\"Process the question and return the final answer with citations if applicable.\"\"\"\n",
    "    state = {\"question\": question, \"max_retries\": 3, \"loop_step\": 0}\n",
    "    next_node = route_question(state)\n",
    "\n",
    "    if isinstance(next_node, dict) and next_node.get(\"datasource\") == \"linkedin\":\n",
    "        # Handle LinkedIn direct link for person queries\n",
    "        linkedin_url = next_node[\"linkedin_url\"]\n",
    "        print(f\"Final Answer: You can view the LinkedIn profile here: {linkedin_url}\")\n",
    "        return linkedin_url\n",
    "\n",
    "    while next_node != END:\n",
    "        if next_node == \"vectorstore\":\n",
    "            state.update(retrieve(state))\n",
    "            state.update(grade_documents(state))\n",
    "            next_node = decide_to_generate(state)\n",
    "        elif next_node == \"websearch\":\n",
    "            state.update(web_search(state))\n",
    "            state.update(grade_documents(state))\n",
    "            next_node = decide_to_generate(state)\n",
    "        elif next_node == \"generate\":\n",
    "            state.update(generate(state))\n",
    "            answer = state[\"answer\"]\n",
    "            # Check if web results were involved and provide citations\n",
    "            if state.get(\"web_sources\"):\n",
    "                citations = f\"\\nCitations:\\n{state['web_sources'][0]}\"\n",
    "                print(f\"Final Answer: {answer}{citations}\")\n",
    "            else:\n",
    "                print(f\"Final Answer: {answer}\")\n",
    "            return answer\n",
    "        else:\n",
    "            raise ValueError(\"Unknown next node: {}\".format(next_node))\n",
    "\n",
    "    print(\"No answer could be generated.\")\n",
    "    return None\n",
    "\n"
   ]
  },
  {
   "cell_type": "code",
   "execution_count": 107,
   "id": "914db2c7-0a0c-4390-9d75-7b1f0ee78d29",
   "metadata": {},
   "outputs": [
    {
     "data": {
      "image/jpeg": "[encoded data removed]",
      "text/plain": [
       "<IPython.core.display.Image object>"
      ]
     },
     "metadata": {},
     "output_type": "display_data"
    }
   ],
   "source": [
    "\n",
    "\n",
    "# Define the workflow graph\n",
    "workflow = StateGraph(GraphState)\n",
    "\n",
    "# Define the nodes\n",
    "workflow.add_node(\"websearch\", web_search)  # web search\n",
    "workflow.add_node(\"retrieve\", retrieve)  # retrieve\n",
    "workflow.add_node(\"grade_documents\", grade_documents)  # grade documents\n",
    "workflow.add_node(\"generate\", generate)  # generate\n",
    "workflow.add_node(\n",
    "    \"linkedin_redirect\",\n",
    "    lambda state: {\"answer\": f\"https://in.linkedin.com/in/{state['person_name'].replace(' ', '-')}\"}\n",
    ")  # LinkedIn redirect\n",
    "\n",
    "# Define the conditional entry point for routing\n",
    "def custom_route_question(state):\n",
    "    \"\"\"Custom routing based on question type.\"\"\"\n",
    "    question = state[\"question\"]\n",
    "    person_keywords = re.compile(r\"(who is|tell me about|profile of|bio of|biography of) (.+)\", re.IGNORECASE)\n",
    "    match = person_keywords.match(question)\n",
    "\n",
    "    if match:\n",
    "        person_name = match.group(2).strip()\n",
    "        state[\"person_name\"] = person_name\n",
    "        return \"linkedin\"\n",
    "    else:\n",
    "        return \"vectorstore\"\n",
    "\n",
    "# Build graph\n",
    "workflow.set_conditional_entry_point(\n",
    "    custom_route_question,\n",
    "    {\n",
    "        \"linkedin\": \"linkedin_redirect\",  # Direct to LinkedIn if the query is about a person\n",
    "        \"vectorstore\": \"retrieve\",\n",
    "    },\n",
    ")\n",
    "\n",
    "# Add edges for web search and document grading/generation process\n",
    "workflow.add_edge(\"websearch\", \"grade_documents\")  # Add grading after web search\n",
    "workflow.add_edge(\"retrieve\", \"grade_documents\")  # Grade documents after retrieval\n",
    "\n",
    "workflow.add_conditional_edges(\n",
    "    \"grade_documents\",\n",
    "    decide_to_generate,\n",
    "    {\n",
    "        \"websearch\": \"websearch\",  # If documents are not sufficient, do a web search\n",
    "        \"generate\": \"generate\",  # If documents are sufficient, proceed to generate an answer\n",
    "    },\n",
    ")\n",
    "\n",
    "workflow.add_conditional_edges(\n",
    "    \"generate\",\n",
    "    grade_generation_v_documents_and_question,\n",
    "    {\n",
    "        \"not supported\": \"generate\",  # Retry generation if the answer is unsupported\n",
    "        \"useful\": END,  # End if the answer is useful\n",
    "        \"not useful\": \"websearch\",  # Perform web search if the answer is not useful\n",
    "        \"max retries\": END,  # End if max retries have been reached\n",
    "    },\n",
    ")\n",
    "\n",
    "# Compile the graph and display it\n",
    "graph = workflow.compile()\n",
    "display(Image(graph.get_graph().draw_mermaid_png()))\n"
   ]
  },
  {
   "cell_type": "code",
   "execution_count": 119,
   "id": "d372a84a-d7f1-4eed-b106-d7d792eefd22",
   "metadata": {},
   "outputs": [
    {
     "name": "stdin",
     "output_type": "stream",
     "text": [
      "Please enter your question:  Who is Indrajit Kar\n"
     ]
    },
    {
     "name": "stdout",
     "output_type": "stream",
     "text": [
      "---ROUTE QUESTION---\n",
      "---RETRIEVE---\n",
      "---CHECK DOCUMENT RELEVANCE TO QUESTION---\n",
      "---ASSESS GRADED DOCUMENTS---\n",
      "---WEB SEARCH---\n",
      "---CHECK DOCUMENT RELEVANCE TO QUESTION---\n",
      "---ASSESS GRADED DOCUMENTS---\n",
      "---GENERATE---\n",
      "Final Answer: Indrajit Kar is a master's graduate in Computational Biology from Bengaluru with over 22 years of experience in AI and ML, having worked at various organizations including Siemens, Accenture, IBM, Infinite Data Systems, and Zensar Technologies. He currently serves as the Head of AI at Siemens Advanta, where he influences CXOs and organizations to adopt data-driven decision making. Indrajit Kar is also a book author and editor, with 21 patents related to AI and Generative AI.\n",
      "Citations:\n",
      "Source not available\n"
     ]
    },
    {
     "data": {
      "text/plain": [
       "\"Indrajit Kar is a master's graduate in Computational Biology from Bengaluru with over 22 years of experience in AI and ML, having worked at various organizations including Siemens, Accenture, IBM, Infinite Data Systems, and Zensar Technologies. He currently serves as the Head of AI at Siemens Advanta, where he influences CXOs and organizations to adopt data-driven decision making. Indrajit Kar is also a book author and editor, with 21 patents related to AI and Generative AI.\""
      ]
     },
     "execution_count": 119,
     "metadata": {},
     "output_type": "execute_result"
    }
   ],
   "source": [
    "# Example usage:\n",
    "questions = input(\"Please enter your question: \")\n",
    "process_question(questions)"
   ]
  },
  {
   "cell_type": "code",
   "execution_count": 136,
   "id": "2413ad20-3309-4b5b-a9de-84fe277eccbf",
   "metadata": {},
   "outputs": [],
   "source": [
    "\n",
    "\n",
    "def retrieve(state):\n",
    "    \"\"\"Retrieve documents from vectorstore.\"\"\"\n",
    "    print(\"---RETRIEVE---\")\n",
    "    question = state[\"question\"]\n",
    "    documents = retriever.invoke(question)\n",
    "    return {\"documents\": documents}\n",
    "\n",
    "def generate(state):\n",
    "    \"\"\"Generate answer using RAG on retrieved documents.\"\"\"\n",
    "    print(\"---GENERATE---\")\n",
    "    question = state[\"question\"]\n",
    "    documents = state[\"documents\"]\n",
    "    docs_txt = format_docs(documents)\n",
    "    rag_prompt_formatted = rag_prompt.format(context=docs_txt, question=question)\n",
    "    generation = llm.invoke([HumanMessage(content=rag_prompt_formatted)])\n",
    "    return {\"answer\": generation.content}\n",
    "\n",
    "def grade_documents(state):\n",
    "    \"\"\"Determine if retrieved documents are relevant to the question.\"\"\"\n",
    "    print(\"---CHECK DOCUMENT RELEVANCE TO QUESTION---\")\n",
    "    question = state[\"question\"]\n",
    "    documents = state[\"documents\"]\n",
    "    filtered_docs = []\n",
    "    web_search = \"No\"\n",
    "    for d in documents:\n",
    "        doc_grader_prompt_formatted = doc_grader_prompt.format(\n",
    "            document=d.page_content, question=question\n",
    "        )\n",
    "        result = llm_json_mode.invoke(\n",
    "            [SystemMessage(content=doc_grader_instructions)]\n",
    "            + [HumanMessage(content=doc_grader_prompt_formatted)]\n",
    "        )\n",
    "        grade = json.loads(result.content)[\"binary_score\"]\n",
    "        if grade.lower() == \"yes\":\n",
    "            filtered_docs.append(d)\n",
    "        else:\n",
    "            web_search = \"Yes\"\n",
    "    return {\"documents\": filtered_docs, \"web_search\": web_search}\n",
    "\n",
    "def web_search(state):\n",
    "    \"\"\"Perform web search based on the question.\"\"\"\n",
    "    print(\"---WEB SEARCH---\")\n",
    "    question = state[\"question\"]\n",
    "    documents = state.get(\"documents\", [])\n",
    "    docs = web_search_tool.invoke({\"query\": question})\n",
    "\n",
    "    # Collecting the web results and sources\n",
    "    web_sources = []\n",
    "    for d in docs:\n",
    "        if \"content\" in d:\n",
    "            web_results_doc = Document(page_content=d[\"content\"])\n",
    "            documents.append(web_results_doc)\n",
    "        if \"link\" in d:  # Assuming \"link\" holds the URL of the source\n",
    "            web_sources.append(d[\"link\"])\n",
    "\n",
    "    # If no sources found, add a default message\n",
    "    if not web_sources and docs:\n",
    "        web_sources.append(\"Source not available\")\n",
    "\n",
    "    return {\"documents\": documents, \"web_sources\": web_sources}\n",
    "\n",
    "def route_question(state):\n",
    "    \"\"\"Route question based on content: check vectorstore, then web search, then LinkedIn.\"\"\"\n",
    "    print(\"---ROUTE QUESTION---\")\n",
    "    question = state[\"question\"]\n",
    "\n",
    "    # Check if the question is about a person using regex\n",
    "    person_keywords = re.compile(r\"(who is|tell me about|profile of|bio of|biography of) (.+)\", re.IGNORECASE)\n",
    "    match = person_keywords.match(question)\n",
    "\n",
    "    if match:\n",
    "        state[\"person_name\"] = match.group(2).strip()\n",
    "        return \"vectorstore\"\n",
    "    else:\n",
    "        return \"vectorstore\"\n",
    "\n",
    "def decide_to_generate(state):\n",
    "    \"\"\"Decide whether to generate an answer, add web search, or go to LinkedIn.\"\"\"\n",
    "    print(\"---ASSESS GRADED DOCUMENTS---\")\n",
    "    if not state[\"documents\"]:\n",
    "        return \"websearch\"\n",
    "    elif state[\"web_search\"] == \"Yes\":\n",
    "        return \"websearch\"\n",
    "    else:\n",
    "        return \"generate\"\n",
    "\n",
    "def process_question(question):\n",
    "    \"\"\"Process the question and return the final answer with citations if applicable.\"\"\"\n",
    "    state = {\"question\": question, \"max_retries\": 3, \"loop_step\": 0}\n",
    "    next_node = route_question(state)\n",
    "\n",
    "    while next_node != END:\n",
    "        if next_node == \"vectorstore\":\n",
    "            state.update(retrieve(state))\n",
    "            state.update(grade_documents(state))\n",
    "            next_node = decide_to_generate(state)\n",
    "        elif next_node == \"websearch\":\n",
    "            state.update(web_search(state))\n",
    "            state.update(grade_documents(state))\n",
    "            next_node = decide_to_generate(state)\n",
    "        elif next_node == \"generate\":\n",
    "            state.update(generate(state))\n",
    "            answer = state[\"answer\"]\n",
    "\n",
    "            # Add LinkedIn link if the question is about a person\n",
    "            linkedin_link = \"\"\n",
    "            if \"person_name\" in state:\n",
    "                person_name = state[\"person_name\"].replace(\" \", \"-\")\n",
    "                linkedin_link = f\"\\nLinkedIn Profile: https://in.linkedin.com/in/{person_name}\"\n",
    "\n",
    "            # Check if web results were involved and provide citations\n",
    "            if state.get(\"web_sources\"):\n",
    "                citations = f\"\\nCitations:\\n{state['web_sources'][0]}\"\n",
    "                print(f\"Final Answer: {answer}{citations}{linkedin_link}\")\n",
    "            else:\n",
    "                print(f\"Final Answer: {answer}{linkedin_link}\")\n",
    "            return answer\n",
    "        elif next_node == \"linkedin_redirect\":\n",
    "            person_name = state[\"person_name\"].replace(\" \", \"-\")\n",
    "            linkedin_url = f\"https://in.linkedin.com/in/{person_name}\"\n",
    "            print(f\"Final Answer: You can view the LinkedIn profile here: {linkedin_url}\")\n",
    "            return linkedin_url\n",
    "        else:\n",
    "            raise ValueError(\"Unknown next node: {}\".format(next_node))\n",
    "\n",
    "    print(\"No answer could be generated.\")\n",
    "    return None\n",
    "\n"
   ]
  },
  {
   "cell_type": "code",
   "execution_count": 140,
   "id": "37c11717-c8ef-4ab2-9777-bc897a6ef702",
   "metadata": {},
   "outputs": [
    {
     "data": {
      "image/jpeg": "[encoded data removed]",
      "text/plain": [
       "<IPython.core.display.Image object>"
      ]
     },
     "metadata": {},
     "output_type": "display_data"
    }
   ],
   "source": [
    "\n",
    "\n",
    "# Define the workflow graph\n",
    "workflow = StateGraph(GraphState)\n",
    "\n",
    "# Define the nodes\n",
    "workflow.add_node(\"websearch\", web_search)  # web search\n",
    "workflow.add_node(\"retrieve\", retrieve)  # retrieve\n",
    "workflow.add_node(\"grade_documents\", grade_documents)  # grade documents\n",
    "workflow.add_node(\"generate\", generate)  # generate\n",
    "workflow.add_node(\n",
    "    \"linkedin_redirect\",\n",
    "    lambda state: {\"linkedin_url\": f\"https://in.linkedin.com/in/{state['person_name'].replace(' ', '-')}\"}\n",
    ")  # LinkedIn redirect\n",
    "\n",
    "# Define the conditional entry point for routing\n",
    "def custom_route_question(state):\n",
    "    \"\"\"Custom routing based on question type.\"\"\"\n",
    "    question = state[\"question\"]\n",
    "    person_keywords = re.compile(r\"(who is|tell me about|profile of|bio of|biography of) (.+)\", re.IGNORECASE)\n",
    "    match = person_keywords.match(question)\n",
    "\n",
    "    if match:\n",
    "        person_name = match.group(2).strip()\n",
    "        state[\"person_name\"] = person_name\n",
    "        return \"vectorstore\"\n",
    "    else:\n",
    "        return \"vectorstore\"\n",
    "\n",
    "# Build graph\n",
    "workflow.set_conditional_entry_point(\n",
    "    custom_route_question,\n",
    "    {\n",
    "        \"vectorstore\": \"retrieve\",  # Start with vector store retrieval\n",
    "    },\n",
    ")\n",
    "\n",
    "# Add edges for document retrieval and grading process\n",
    "workflow.add_edge(\"retrieve\", \"grade_documents\")  # Grade documents after retrieval\n",
    "\n",
    "workflow.add_conditional_edges(\n",
    "    \"grade_documents\",\n",
    "    decide_to_generate,\n",
    "    {\n",
    "        \"websearch\": \"websearch\",  # If documents are not sufficient, do a web search\n",
    "        \"generate\": \"generate\",  # If documents are sufficient, proceed to generate an answer\n",
    "    },\n",
    ")\n",
    "\n",
    "# Add web search and grading edge\n",
    "workflow.add_edge(\"websearch\", \"grade_documents\")  # Add grading after web search\n",
    "\n",
    "workflow.add_conditional_edges(\n",
    "    \"generate\",\n",
    "    grade_generation_v_documents_and_question,\n",
    "    {\n",
    "        \"not supported\": \"generate\",  # Retry generation if the answer is unsupported\n",
    "        \"useful\": \"linkedin_redirect\",  # Proceed to LinkedIn redirect if the answer is useful\n",
    "        \"not useful\": \"websearch\",  # Perform web search if the answer is not useful\n",
    "        \"max retries\": \"linkedin_redirect\",  # Redirect to LinkedIn if max retries are reached\n",
    "    },\n",
    ")\n",
    "\n",
    "# Ensure LinkedIn link is provided, even if sufficient info found\n",
    "workflow.add_edge(\"linkedin_redirect\", END)  # End after providing LinkedIn link\n",
    "\n",
    "# Compile the graph and display it\n",
    "graph = workflow.compile()\n",
    "display(Image(graph.get_graph().draw_mermaid_png()))\n"
   ]
  },
  {
   "cell_type": "code",
   "execution_count": 158,
   "id": "66737fc2-0411-49fd-bdd4-6f3b0d9db429",
   "metadata": {},
   "outputs": [
    {
     "name": "stdin",
     "output_type": "stream",
     "text": [
      "Please enter your question:  who is Indrajit Kar\n"
     ]
    },
    {
     "name": "stdout",
     "output_type": "stream",
     "text": [
      "---ROUTE QUESTION---\n",
      "---RETRIEVE---\n",
      "---CHECK DOCUMENT RELEVANCE TO QUESTION---\n",
      "---ASSESS GRADED DOCUMENTS---\n",
      "---WEB SEARCH---\n",
      "---CHECK DOCUMENT RELEVANCE TO QUESTION---\n",
      "---ASSESS GRADED DOCUMENTS---\n",
      "---GENERATE---\n",
      "Final Answer: Indrajit Kar is a master's graduate in Computational Biology from Bengaluru with over 22 years of experience in AI and ML, having worked at various companies including Siemens, Accenture, IBM, Infinite Data Systems, and Zensar Technologies. He currently serves as the Head of AI at Siemens Advanta, where he influences CXOs and organizations to adopt data-driven decision making. Indrajit Kar is also a book author and editor, with 21 patents related to AI and Generative AI.\n",
      "Citations:\n",
      "Source not available\n",
      "LinkedIn Profile: https://in.linkedin.com/in/Indrajit-Kar\n"
     ]
    },
    {
     "data": {
      "text/plain": [
       "\"Indrajit Kar is a master's graduate in Computational Biology from Bengaluru with over 22 years of experience in AI and ML, having worked at various companies including Siemens, Accenture, IBM, Infinite Data Systems, and Zensar Technologies. He currently serves as the Head of AI at Siemens Advanta, where he influences CXOs and organizations to adopt data-driven decision making. Indrajit Kar is also a book author and editor, with 21 patents related to AI and Generative AI.\""
      ]
     },
     "execution_count": 158,
     "metadata": {},
     "output_type": "execute_result"
    }
   ],
   "source": [
    "# Example usage:\n",
    "questions = input(\"Please enter your question: \")\n",
    "process_question(questions)"
   ]
  },
  {
   "cell_type": "code",
   "execution_count": 160,
   "id": "1900c6b8-ac0f-4335-a5aa-e8df68ddefe1",
   "metadata": {},
   "outputs": [
    {
     "name": "stdin",
     "output_type": "stream",
     "text": [
      "Please enter your question:  what is Open AI swarm?\n"
     ]
    },
    {
     "name": "stdout",
     "output_type": "stream",
     "text": [
      "---ROUTE QUESTION---\n",
      "---RETRIEVE---\n",
      "---CHECK DOCUMENT RELEVANCE TO QUESTION---\n",
      "---ASSESS GRADED DOCUMENTS---\n",
      "---WEB SEARCH---\n",
      "---CHECK DOCUMENT RELEVANCE TO QUESTION---\n",
      "---ASSESS GRADED DOCUMENTS---\n",
      "---GENERATE---\n",
      "Final Answer: OpenAI Swarm is an open-source framework designed to simplify the creation and coordination of AI agents, focusing on agent coordination and execution through agents and handoffs. It is a flexible and efficient framework for orchestrating multiple AI agents, aiming to explore user-friendly interfaces for managing complex multi-agent systems. The framework is currently in its experimental phase, showcasing advances encompassing agentic AI.\n",
      "Citations:\n",
      "Source not available\n"
     ]
    },
    {
     "data": {
      "text/plain": [
       "'OpenAI Swarm is an open-source framework designed to simplify the creation and coordination of AI agents, focusing on agent coordination and execution through agents and handoffs. It is a flexible and efficient framework for orchestrating multiple AI agents, aiming to explore user-friendly interfaces for managing complex multi-agent systems. The framework is currently in its experimental phase, showcasing advances encompassing agentic AI.'"
      ]
     },
     "execution_count": 160,
     "metadata": {},
     "output_type": "execute_result"
    }
   ],
   "source": [
    "# Example usage:\n",
    "questions = input(\"Please enter your question: \")\n",
    "process_question(questions)"
   ]
  },
  {
   "cell_type": "code",
   "execution_count": null,
   "id": "49dd3dea-c7a0-4017-804d-6685e07b3f0a",
   "metadata": {},
   "outputs": [],
   "source": []
  }
 ],
 "metadata": {
  "kernelspec": {
   "display_name": "Python 3 (ipykernel)",
   "language": "python",
   "name": "python3"
  },
  "language_info": {
   "codemirror_mode": {
    "name": "ipython",
    "version": 3
   },
   "file_extension": ".py",
   "mimetype": "text/x-python",
   "name": "python",
   "nbconvert_exporter": "python",
   "pygments_lexer": "ipython3",
   "version": "3.12.4"
  }
 },
 "nbformat": 4,
 "nbformat_minor": 5
}
